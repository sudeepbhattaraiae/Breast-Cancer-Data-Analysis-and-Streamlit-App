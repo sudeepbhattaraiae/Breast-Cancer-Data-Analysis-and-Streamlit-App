{
 "cells": [
  {
   "cell_type": "code",
   "execution_count": 1,
   "id": "4d0e61f9-5223-4598-8b7c-9a6a90d8e0f8",
   "metadata": {},
   "outputs": [],
   "source": [
    "# Importing necessary libraries\n",
    "import pandas as pd  # For data manipulation and analysis\n",
    "from sklearn.datasets import load_breast_cancer  # To load the built-in Breast Cancer dataset\n",
    "from sklearn.feature_selection import SelectKBest, f_classif  # For feature selection\n",
    "from sklearn.model_selection import GridSearchCV, train_test_split  # For model training and hyperparameter tuning\n",
    "from sklearn.neural_network import MLPClassifier  # Multi-Layer Perceptron Classifier for ANN\n",
    "from sklearn.metrics import classification_report  # To evaluate the model\n",
    "import pickle  # For saving and loading intermediate data and models"
   ]
  },
  {
   "cell_type": "markdown",
   "id": "7f4cb12a",
   "metadata": {},
   "source": [
    "# Dataset Preparation"
   ]
  },
  {
   "cell_type": "code",
   "execution_count": 2,
   "id": "f939c9ea",
   "metadata": {},
   "outputs": [
    {
     "name": "stdout",
     "output_type": "stream",
     "text": [
      "Dataset saved as 'breast_cancer_data.csv' and 'breast_cancer_data.pkl'.\n"
     ]
    }
   ],
   "source": [
    "# Load the breast cancer dataset from Scikit-learn\n",
    "data = load_breast_cancer()\n",
    "# Convert the dataset into a Pandas DataFrame for easy manipulation\n",
    "df = pd.DataFrame(data.data, columns=data.feature_names)\n",
    "# Add the target column (cancer type: malignant/benign) to the DataFrame\n",
    "df['target'] = data.target\n",
    "\n",
    "# Handle missing values, if any, by removing rows with null values\n",
    "df = df.dropna()\n",
    "\n",
    "# Save the prepared dataset as a CSV file for inspection and reuse\n",
    "df.to_csv('breast_cancer_data.csv', index=False)\n",
    "# Save the dataset as a Pickle file to ensure fast reloading in future steps\n",
    "with open('breast_cancer_data.pkl', 'wb') as f:\n",
    "    pickle.dump(df, f)\n",
    "\n",
    "print(\"Dataset saved as 'breast_cancer_data.csv' and 'breast_cancer_data.pkl'.\")"
   ]
  },
  {
   "cell_type": "markdown",
   "id": "d8376fbe",
   "metadata": {},
   "source": [
    "# Step 2: Feature Selection"
   ]
  },
  {
   "cell_type": "code",
   "execution_count": 3,
   "id": "78a5dc28",
   "metadata": {},
   "outputs": [
    {
     "name": "stdout",
     "output_type": "stream",
     "text": [
      "Selected Features: Index(['mean radius', 'mean perimeter', 'mean area', 'mean concavity',\n",
      "       'mean concave points', 'worst radius', 'worst perimeter', 'worst area',\n",
      "       'worst concavity', 'worst concave points'],\n",
      "      dtype='object')\n"
     ]
    }
   ],
   "source": [
    "# Load the dataset from the Pickle file\n",
    "with open('breast_cancer_data.pkl', 'rb') as f:\n",
    "    df = pickle.load(f)\n",
    "\n",
    "# Separate the features (X) and the target variable (y)\n",
    "X = df.drop(columns=['target'])\n",
    "y = df['target']\n",
    "\n",
    "# Use SelectKBest to select the top 10 features based on ANOVA F-statistic\n",
    "selector = SelectKBest(score_func=f_classif, k=10)\n",
    "X_new = selector.fit_transform(X, y)\n",
    "\n",
    "# Save the selected feature names and the selector object\n",
    "selected_features = X.columns[selector.get_support()]\n",
    "with open('selected_features.pkl', 'wb') as f:\n",
    "    pickle.dump(selected_features, f)\n",
    "with open('feature_selector.pkl', 'wb') as f:\n",
    "    pickle.dump(selector, f)\n",
    "\n",
    "print('Selected Features:', selected_features)"
   ]
  },
  {
   "cell_type": "markdown",
   "id": "7ec3527a",
   "metadata": {},
   "source": [
    "# Step 3: Model Training with Grid Search"
   ]
  },
  {
   "cell_type": "code",
   "execution_count": 4,
   "id": "2019d814",
   "metadata": {},
   "outputs": [
    {
     "name": "stdout",
     "output_type": "stream",
     "text": [
      "Fitting 5 folds for each of 36 candidates, totalling 180 fits\n",
      "Best Parameters: {'activation': 'relu', 'alpha': 0.01, 'hidden_layer_sizes': (50,), 'solver': 'adam'}\n"
     ]
    }
   ],
   "source": [
    "# Split the dataset into training and testing sets (80% training, 20% testing)\n",
    "X_train, X_test, y_train, y_test = train_test_split(X, y, test_size=0.2, random_state=42)\n",
    "\n",
    "# Define the ANN model (MLPClassifier) with a maximum of 1000 iterations\n",
    "model = MLPClassifier(max_iter=1000)\n",
    "\n",
    "# Define a parameter grid for hyperparameter tuning\n",
    "param_grid = {\n",
    "    'hidden_layer_sizes': [(10,), (50,), (100,)],  # Number of neurons in the hidden layer\n",
    "    'activation': ['relu', 'tanh'],  # Activation functions to test\n",
    "    'solver': ['adam', 'sgd'],  # Optimization solvers to test\n",
    "    'alpha': [0.0001, 0.001, 0.01]  # Regularization strengths\n",
    "}\n",
    "\n",
    "# Use GridSearchCV to find the best combination of hyperparameters\n",
    "grid_search = GridSearchCV(model, param_grid, cv=5, n_jobs=-1, verbose=2)\n",
    "grid_search.fit(X_train, y_train)\n",
    "\n",
    "# Save the Grid Search object for reuse\n",
    "with open('grid_search.pkl', 'wb') as f:\n",
    "    pickle.dump(grid_search, f)\n",
    "\n",
    "# Print the best parameters found by Grid Search\n",
    "print('Best Parameters:', grid_search.best_params_)"
   ]
  },
  {
   "cell_type": "markdown",
   "id": "1fb546cb",
   "metadata": {},
   "source": [
    "# Step 4: Model Evaluation"
   ]
  },
  {
   "cell_type": "code",
   "execution_count": 5,
   "id": "38105feb",
   "metadata": {},
   "outputs": [
    {
     "name": "stdout",
     "output_type": "stream",
     "text": [
      "Classification Report (Grid Search Best Model):\n",
      "              precision    recall  f1-score   support\n",
      "\n",
      "           0       0.98      0.95      0.96        43\n",
      "           1       0.97      0.99      0.98        71\n",
      "\n",
      "    accuracy                           0.97       114\n",
      "   macro avg       0.97      0.97      0.97       114\n",
      "weighted avg       0.97      0.97      0.97       114\n",
      "\n"
     ]
    }
   ],
   "source": [
    "# Load the best model from the Grid Search results\n",
    "y_pred = grid_search.best_estimator_.predict(X_test)\n",
    "\n",
    "# Evaluate the model using a classification report\n",
    "print(\"Classification Report (Grid Search Best Model):\")\n",
    "print(classification_report(y_test, y_pred))"
   ]
  },
  {
   "cell_type": "markdown",
   "id": "abc34c1e",
   "metadata": {},
   "source": [
    "# Step 5: Train and Save Standalone ANN Model"
   ]
  },
  {
   "cell_type": "code",
   "execution_count": 6,
   "id": "9546715c",
   "metadata": {},
   "outputs": [
    {
     "name": "stdout",
     "output_type": "stream",
     "text": [
      "Classification Report (Standalone ANN Model):\n",
      "              precision    recall  f1-score   support\n",
      "\n",
      "           0       0.91      0.95      0.93        43\n",
      "           1       0.97      0.94      0.96        71\n",
      "\n",
      "    accuracy                           0.95       114\n",
      "   macro avg       0.94      0.95      0.94       114\n",
      "weighted avg       0.95      0.95      0.95       114\n",
      "\n"
     ]
    }
   ],
   "source": [
    "# Train a standalone ANN model with optimal parameters\n",
    "standalone_model = MLPClassifier(hidden_layer_sizes=(50,), activation='relu', solver='adam', max_iter=1000)\n",
    "standalone_model.fit(X_train, y_train)\n",
    "\n",
    "# Save the standalone model\n",
    "with open('standalone_ann_model.pkl', 'wb') as f:\n",
    "    pickle.dump(standalone_model, f)\n",
    "\n",
    "# Evaluate the standalone model\n",
    "y_pred_standalone = standalone_model.predict(X_test)\n",
    "print(\"Classification Report (Standalone ANN Model):\")\n",
    "print(classification_report(y_test, y_pred_standalone))"
   ]
  }
 ],
 "metadata": {
  "kernelspec": {
   "display_name": "base",
   "language": "python",
   "name": "python3"
  },
  "language_info": {
   "codemirror_mode": {
    "name": "ipython",
    "version": 3
   },
   "file_extension": ".py",
   "mimetype": "text/x-python",
   "name": "python",
   "nbconvert_exporter": "python",
   "pygments_lexer": "ipython3",
   "version": "3.12.7"
  }
 },
 "nbformat": 4,
 "nbformat_minor": 5
}
